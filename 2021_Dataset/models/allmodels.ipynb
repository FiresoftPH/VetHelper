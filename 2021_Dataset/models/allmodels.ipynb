{
 "cells": [
  {
   "cell_type": "code",
   "execution_count": 1,
   "metadata": {},
   "outputs": [
    {
     "name": "stderr",
     "output_type": "stream",
     "text": [
      "C:\\Users\\fin_t\\AppData\\Local\\Temp\\ipykernel_13404\\2146399312.py:1: DeprecationWarning: \n",
      "Pyarrow will become a required dependency of pandas in the next major release of pandas (pandas 3.0),\n",
      "(to allow more performant data types, such as the Arrow string type, and better interoperability with other libraries)\n",
      "but was not found to be installed on your system.\n",
      "If this would cause problems for you,\n",
      "please provide us feedback at https://github.com/pandas-dev/pandas/issues/54466\n",
      "        \n",
      "  import pandas as pd\n"
     ]
    }
   ],
   "source": [
    "import pandas as pd\n",
    "\n",
    "# Load the data, there are GN and GP datasets\n",
    "file_name = \"GN_Dataset_1.xlsx\"\n",
    "# Refer to the model.pdf for the target medicine according to the dataset\n",
    "#target_medicine = \"Trimethoprim/sulfamethoxazole\".lower()\n",
    "df = pd.read_excel(file_name)\n",
    "df = df.drop(columns=[\"date_of_submission\", \"report_issued_date\", \"id\", \"type\", \"vitek_id\"])"
   ]
  },
  {
   "cell_type": "code",
   "execution_count": 2,
   "metadata": {},
   "outputs": [],
   "source": [
    "df = pd.get_dummies(df, columns=[\"species\", \"submitted_sample\", \"bacteria_genus\"])\n",
    "for column in df.columns:\n",
    "    if \"S/I/R_\" in str(column):\n",
    "        df = pd.get_dummies(df, columns=[column])"
   ]
  },
  {
   "cell_type": "code",
   "execution_count": 3,
   "metadata": {},
   "outputs": [],
   "source": [
    "from sklearn.model_selection import KFold\n",
    "from sklearn.tree import DecisionTreeClassifier\n",
    "from sklearn.metrics import accuracy_score, precision_score, f1_score, recall_score\n",
    "import numpy as np"
   ]
  },
  {
   "cell_type": "code",
   "execution_count": 4,
   "metadata": {},
   "outputs": [],
   "source": [
    "# Choosing the features column and the target column\n",
    "features_col = []\n",
    "for col in df.columns:\n",
    "    if \"species\" in col or \"submitted_sample\" in col or \"bacteria_genus\" in col or \"S/I/R_\" in col:\n",
    "        features_col.append(col)\n",
    "\n",
    "X = df[features_col]\n",
    "\n",
    "allmeds = [\"Trimethoprim/sulfamethoxazole\",\"Cefovecin\",\"Marbofloxacin\",\"Amikacin\",\"Amoxicillin/clavulanic acid\",\"Imipenem\",\"Enrofloxacin\",\"Cefalexin\",\"Gentamicin\",\"Nitrofurantoin\",\"Doxycycline\"]\n",
    "bestdepthsngn = [7,8,7,9,3,10,7,6,7,6,9]\n",
    "\n",
    "ylist = []\n",
    "for i in allmeds:\n",
    "    ylist.append(df[\"ans_\" + i.lower()])\n",
    "\n",
    "modellist = []\n",
    "total_y_test = []\n",
    "\n",
    "for i in range(len(allmeds)):\n",
    "    model = DecisionTreeClassifier(max_depth=bestdepthsngn[i],random_state=42, criterion=\"gini\")\n",
    "    kf = KFold(n_splits=10, shuffle=True, random_state=42)\n",
    "    for train_index, test_index in kf.split(X):\n",
    "        X_train, X_test = X.iloc[train_index], X.iloc[test_index]\n",
    "        y_train, y_test = ylist[i].iloc[train_index], ylist[i].iloc[test_index]\n",
    "        total_y_test = total_y_test + list(y_test)\n",
    "        model.fit(X_train,y_train)\n",
    "        modellist.append(modellist)\n"
   ]
  },
  {
   "cell_type": "code",
   "execution_count": 5,
   "metadata": {},
   "outputs": [],
   "source": [
    "import joblib\n",
    "for i in range(len(allmeds)):\n",
    "    target_medicine = allmeds[i].replace(\"/\",\"-\")\n",
    "    model_name = \"model_\" + target_medicine + \"_gn.pkl\"\n",
    "    joblib.dump(modellist,model_name)"
   ]
  },
  {
   "cell_type": "code",
   "execution_count": 6,
   "metadata": {},
   "outputs": [],
   "source": [
    "import pandas as pd\n",
    "\n",
    "# Load the data, there are GN and GP datasets\n",
    "file_name = \"GP_Dataset_1.xlsx\"\n",
    "# Refer to the model.pdf for the target medicine according to the dataset\n",
    "#target_medicine = \"Trimethoprim/sulfamethoxazole\".lower()\n",
    "df = pd.read_excel(file_name)\n",
    "df = df.drop(columns=[\"date_of_submission\", \"report_issued_date\", \"id\", \"type\", \"vitek_id\"])"
   ]
  },
  {
   "cell_type": "code",
   "execution_count": 7,
   "metadata": {},
   "outputs": [],
   "source": [
    "df = pd.get_dummies(df, columns=[\"species\", \"submitted_sample\", \"bacteria_genus\"])\n",
    "for column in df.columns:\n",
    "    if \"S/I/R_\" in str(column):\n",
    "        df = pd.get_dummies(df, columns=[column])\n"
   ]
  },
  {
   "cell_type": "code",
   "execution_count": 8,
   "metadata": {},
   "outputs": [],
   "source": [
    "features_col = []\n",
    "for col in df.columns:\n",
    "    if \"species\" in col or \"submitted_sample\" in col or \"bacteria_genus\" in col or \"S/I/R_\" in col:\n",
    "        features_col.append(col)\n",
    "\n",
    "X = df[features_col]\n",
    "\n",
    "allmeds = [\"Trimethoprim/sulfamethoxazole\",\"Cefovecin\",\"Marbofloxacin\",\"Amikacin\",\"Amoxicillin/clavulanic acid\",\"Enrofloxacin\",\"Cefalexin\",\"Nitrofurantoin\",\"Doxycycline\", \"Vancomycin\", \"Clindamycin\"]\n",
    "bestdepthsngp = [6,6,4,10,7,3,9,6,4,4,5]\n",
    "\n",
    "ylist = []\n",
    "for i in allmeds:\n",
    "    ylist.append(df[\"ans_\" + i.lower()])\n",
    "\n",
    "modellist = []\n",
    "total_y_test = []\n",
    "\n",
    "for i in range(len(allmeds)):\n",
    "    model = DecisionTreeClassifier(max_depth=bestdepthsngn[i],random_state=42, criterion=\"gini\")\n",
    "    kf = KFold(n_splits=10, shuffle=True, random_state=42)\n",
    "    for train_index, test_index in kf.split(X):\n",
    "        X_train, X_test = X.iloc[train_index], X.iloc[test_index]\n",
    "        y_train, y_test = ylist[i].iloc[train_index], ylist[i].iloc[test_index]\n",
    "        total_y_test = total_y_test + list(y_test)\n",
    "        model.fit(X_train,y_train)\n",
    "        modellist.append(modellist)\n",
    "\n"
   ]
  },
  {
   "cell_type": "code",
   "execution_count": 9,
   "metadata": {},
   "outputs": [],
   "source": [
    "for i in range(len(allmeds)):\n",
    "    target_medicine = allmeds[i].replace(\"/\",\"-\")\n",
    "    model_name = \"model_\" + target_medicine + \"_gp.pkl\"\n",
    "    joblib.dump(modellist,model_name)"
   ]
  }
 ],
 "metadata": {
  "kernelspec": {
   "display_name": "Python 3",
   "language": "python",
   "name": "python3"
  },
  "language_info": {
   "codemirror_mode": {
    "name": "ipython",
    "version": 3
   },
   "file_extension": ".py",
   "mimetype": "text/x-python",
   "name": "python",
   "nbconvert_exporter": "python",
   "pygments_lexer": "ipython3",
   "version": "3.12.2"
  }
 },
 "nbformat": 4,
 "nbformat_minor": 2
}
