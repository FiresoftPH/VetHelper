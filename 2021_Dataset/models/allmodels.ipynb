{
 "cells": [
  {
   "cell_type": "code",
   "execution_count": 17,
   "metadata": {},
   "outputs": [],
   "source": [
    "import pandas as pd\n",
    "\n",
    "# Load the data, there are GN and GP datasets\n",
    "file_name = \"GP_Dataset_1.xlsx\"\n",
    "# Refer to the model.pdf for the target medicine according to the dataset\n",
    "#target_medicine = \"Trimethoprim/sulfamethoxazole\".lower()\n",
    "df = pd.read_excel(file_name)\n",
    "df = df.drop(columns=[\"date_of_submission\", \"report_issued_date\", \"id\", \"type\", \"vitek_id\"])"
   ]
  },
  {
   "cell_type": "code",
   "execution_count": 18,
   "metadata": {},
   "outputs": [],
   "source": [
    "df = pd.get_dummies(df, columns=[\"species\", \"submitted_sample\", \"bacteria_genus\"])\n",
    "for column in df.columns:\n",
    "    if \"S/I/R_\" in str(column):\n",
    "        df = pd.get_dummies(df, columns=[column])"
   ]
  },
  {
   "cell_type": "code",
   "execution_count": 19,
   "metadata": {},
   "outputs": [],
   "source": [
    "from sklearn.model_selection import KFold\n",
    "from sklearn.tree import DecisionTreeClassifier\n",
    "from sklearn.metrics import accuracy_score, precision_score, f1_score, recall_score\n",
    "import numpy as np"
   ]
  },
  {
   "cell_type": "code",
   "execution_count": 20,
   "metadata": {},
   "outputs": [
    {
     "name": "stdout",
     "output_type": "stream",
     "text": [
      "[[...], [...], [...], [...], [...], [...], [...], [...], [...], [...], [...], [...], [...], [...], [...], [...], [...], [...], [...], [...], [...], [...], [...], [...], [...], [...], [...], [...], [...], [...], [...], [...], [...], [...], [...], [...], [...], [...], [...], [...], [...], [...], [...], [...], [...], [...], [...], [...], [...], [...], [...], [...], [...], [...], [...], [...], [...], [...], [...], [...], [...], [...], [...], [...], [...], [...], [...], [...], [...], [...], [...], [...], [...], [...], [...], [...], [...], [...], [...], [...], [...], [...], [...], [...], [...], [...], [...], [...], [...], [...], [...], [...], [...], [...], [...], [...], [...], [...], [...], [...], [...], [...], [...], [...], [...], [...], [...], [...], [...], [...]]\n"
     ]
    }
   ],
   "source": [
    "# Choosing the features column and the target column\n",
    "features_col = []\n",
    "for col in df.columns:\n",
    "    if \"species\" in col or \"submitted_sample\" in col or \"bacteria_genus\" in col or \"S/I/R_\" in col:\n",
    "        features_col.append(col)\n",
    "\n",
    "X = df[features_col]\n",
    "\n",
    "allmeds = [\"Trimethoprim/sulfamethoxazole\",\"Cefovecin\",\"Marbofloxacin\",\"Amikacin\",\"Amoxicillin/clavulanic acid\",\"Imipenem\",\"Enrofloxacin\",\"Cefalexin\",\"Gentamicin\",\"Nitrofurantoin\",\"Doxycycline\"]\n",
    "bestdepthsngn = [7,8,7,9,3,10,7,6,7,6,9]\n",
    "\n",
    "ylist = []\n",
    "for i in allmeds:\n",
    "    ylist.append(df[\"ans_\" + i.lower()])\n",
    "\n",
    "modellist = []\n",
    "total_y_test = []\n",
    "\n",
    "for i in range(len(allmeds)):\n",
    "    model = DecisionTreeClassifier(max_depth=bestdepthsngn[i],random_state=42, criterion=\"gini\")\n",
    "    kf = KFold(n_splits=10, shuffle=True, random_state=42)\n",
    "    for train_index, test_index in kf.split(X):\n",
    "        X_train, X_test = X.iloc[train_index], X.iloc[test_index]\n",
    "        y_train, y_test = ylist[i].iloc[train_index], ylist[i].iloc[test_index]\n",
    "        total_y_test = total_y_test + list(y_test)\n",
    "        model.fit(X_train,y_train)\n",
    "        modellist.append(modellist)\n",
    "\n",
    "print(modellist)"
   ]
  },
  {
   "cell_type": "code",
   "execution_count": 21,
   "metadata": {},
   "outputs": [],
   "source": [
    "import joblib\n",
    "for i in range(len(allmeds)):\n",
    "    target_medicine = allmeds[i].replace(\"/\",\"-\")\n",
    "    model_name = \"model_\" + target_medicine + \".pkl\"\n",
    "    joblib.dump(modellist,model_name)"
   ]
  }
 ],
 "metadata": {
  "kernelspec": {
   "display_name": "Python 3",
   "language": "python",
   "name": "python3"
  },
  "language_info": {
   "codemirror_mode": {
    "name": "ipython",
    "version": 3
   },
   "file_extension": ".py",
   "mimetype": "text/x-python",
   "name": "python",
   "nbconvert_exporter": "python",
   "pygments_lexer": "ipython3",
   "version": "3.12.2"
  }
 },
 "nbformat": 4,
 "nbformat_minor": 2
}
